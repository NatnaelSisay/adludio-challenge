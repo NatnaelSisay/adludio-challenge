{
 "cells": [
  {
   "cell_type": "code",
   "execution_count": 1,
   "id": "8fffa558",
   "metadata": {},
   "outputs": [],
   "source": [
    "import pandas as pd\n",
    "import numpy as np\n",
    "pd.set_option('max_column', None)\n",
    "pd.options.display.float_format = \"{:.2f}\".format\n",
    "\n",
    "from sklearn.preprocessing import MinMaxScaler\n",
    "from sklearn.model_selection import train_test_split\n",
    "from sklearn.linear_model import LinearRegression\n",
    "from sklearn.linear_model import LogisticRegression\n",
    "from sklearn.preprocessing import LabelEncoder\n",
    "from sklearn.metrics import mutual_info_score\n",
    "\n",
    "from sklearn.feature_selection import mutual_info_classif\n",
    "\n",
    "\n",
    "import sys\n",
    "import os\n",
    "sys.path.append(os.path.abspath(os.path.join('..')))\n",
    "from my_scripts.helper import bar_plot"
   ]
  },
  {
   "cell_type": "code",
   "execution_count": 2,
   "id": "297c63fd",
   "metadata": {},
   "outputs": [
    {
     "data": {
      "text/html": [
       "<div>\n",
       "<style scoped>\n",
       "    .dataframe tbody tr th:only-of-type {\n",
       "        vertical-align: middle;\n",
       "    }\n",
       "\n",
       "    .dataframe tbody tr th {\n",
       "        vertical-align: top;\n",
       "    }\n",
       "\n",
       "    .dataframe thead th {\n",
       "        text-align: right;\n",
       "    }\n",
       "</style>\n",
       "<table border=\"1\" class=\"dataframe\">\n",
       "  <thead>\n",
       "    <tr style=\"text-align: right;\">\n",
       "      <th></th>\n",
       "      <th>LogEntryTime</th>\n",
       "      <th>AdvertiserId</th>\n",
       "      <th>CampaignId</th>\n",
       "      <th>AdGroupId</th>\n",
       "      <th>AudienceID</th>\n",
       "      <th>CreativeId</th>\n",
       "      <th>AdFormat</th>\n",
       "      <th>Frequency</th>\n",
       "      <th>Site</th>\n",
       "      <th>FoldPosition</th>\n",
       "      <th>Country</th>\n",
       "      <th>Region</th>\n",
       "      <th>City</th>\n",
       "      <th>DeviceType</th>\n",
       "      <th>OSFamily</th>\n",
       "      <th>OS</th>\n",
       "      <th>Browser</th>\n",
       "      <th>DeviceMake</th>\n",
       "      <th>AdvertiserCurrency</th>\n",
       "      <th>click</th>\n",
       "      <th>engagement</th>\n",
       "      <th>video-end</th>\n",
       "      <th>video-start</th>\n",
       "    </tr>\n",
       "    <tr>\n",
       "      <th>Unnamed: 0</th>\n",
       "      <th></th>\n",
       "      <th></th>\n",
       "      <th></th>\n",
       "      <th></th>\n",
       "      <th></th>\n",
       "      <th></th>\n",
       "      <th></th>\n",
       "      <th></th>\n",
       "      <th></th>\n",
       "      <th></th>\n",
       "      <th></th>\n",
       "      <th></th>\n",
       "      <th></th>\n",
       "      <th></th>\n",
       "      <th></th>\n",
       "      <th></th>\n",
       "      <th></th>\n",
       "      <th></th>\n",
       "      <th></th>\n",
       "      <th></th>\n",
       "      <th></th>\n",
       "      <th></th>\n",
       "      <th></th>\n",
       "    </tr>\n",
       "  </thead>\n",
       "  <tbody>\n",
       "    <tr>\n",
       "      <th>00006a06-14e2-47d9-b999-fbeeac67dd2b</th>\n",
       "      <td>2021-09-25 00:22:37</td>\n",
       "      <td>868ko1s</td>\n",
       "      <td>t29si1w</td>\n",
       "      <td>e9qf2dm</td>\n",
       "      <td>0</td>\n",
       "      <td>9wkrkl5j</td>\n",
       "      <td>300x250</td>\n",
       "      <td>0</td>\n",
       "      <td>scrabblewordfinder.org</td>\n",
       "      <td>4</td>\n",
       "      <td>United States</td>\n",
       "      <td>New York</td>\n",
       "      <td>Staten Island</td>\n",
       "      <td>4</td>\n",
       "      <td>5.00</td>\n",
       "      <td>173.00</td>\n",
       "      <td>7.00</td>\n",
       "      <td>Apple</td>\n",
       "      <td>0.01</td>\n",
       "      <td>0</td>\n",
       "      <td>0</td>\n",
       "      <td>0</td>\n",
       "      <td>0</td>\n",
       "    </tr>\n",
       "    <tr>\n",
       "      <th>00007898-29c9-43f1-82e5-43c5a856d0f4</th>\n",
       "      <td>2021-09-25 02:31:35</td>\n",
       "      <td>868ko1s</td>\n",
       "      <td>fiwemi8</td>\n",
       "      <td>8m750eh</td>\n",
       "      <td>0</td>\n",
       "      <td>zhre4utp</td>\n",
       "      <td>300x250</td>\n",
       "      <td>0</td>\n",
       "      <td>www.thecoli.com</td>\n",
       "      <td>2</td>\n",
       "      <td>United States</td>\n",
       "      <td>Massachusetts</td>\n",
       "      <td>Milton</td>\n",
       "      <td>4</td>\n",
       "      <td>5.00</td>\n",
       "      <td>173.00</td>\n",
       "      <td>7.00</td>\n",
       "      <td>Apple</td>\n",
       "      <td>0.00</td>\n",
       "      <td>0</td>\n",
       "      <td>0</td>\n",
       "      <td>0</td>\n",
       "      <td>0</td>\n",
       "    </tr>\n",
       "    <tr>\n",
       "      <th>0000d06f-5239-4123-af41-bd1c0e0e8d48</th>\n",
       "      <td>2021-09-25 20:12:52</td>\n",
       "      <td>868ko1s</td>\n",
       "      <td>awbu4q4</td>\n",
       "      <td>oropida</td>\n",
       "      <td>lnqjhqm</td>\n",
       "      <td>ab6spdyi</td>\n",
       "      <td>300x250</td>\n",
       "      <td>0</td>\n",
       "      <td>www.today.com</td>\n",
       "      <td>3</td>\n",
       "      <td>United States</td>\n",
       "      <td>New York</td>\n",
       "      <td>Brooklyn</td>\n",
       "      <td>4</td>\n",
       "      <td>6.00</td>\n",
       "      <td>156.00</td>\n",
       "      <td>6.00</td>\n",
       "      <td>Samsung</td>\n",
       "      <td>0.01</td>\n",
       "      <td>0</td>\n",
       "      <td>0</td>\n",
       "      <td>0</td>\n",
       "      <td>0</td>\n",
       "    </tr>\n",
       "    <tr>\n",
       "      <th>0000d623-aaf1-4be8-81f7-eb6c96b30aee</th>\n",
       "      <td>2021-09-22 16:04:12</td>\n",
       "      <td>868ko1s</td>\n",
       "      <td>t29si1w</td>\n",
       "      <td>e9qf2dm</td>\n",
       "      <td>0</td>\n",
       "      <td>2spj6krt</td>\n",
       "      <td>300x250</td>\n",
       "      <td>0</td>\n",
       "      <td>www.cbssports.com</td>\n",
       "      <td>4</td>\n",
       "      <td>United States</td>\n",
       "      <td>New York</td>\n",
       "      <td>Queens</td>\n",
       "      <td>4</td>\n",
       "      <td>5.00</td>\n",
       "      <td>101.00</td>\n",
       "      <td>7.00</td>\n",
       "      <td>Apple</td>\n",
       "      <td>0.01</td>\n",
       "      <td>0</td>\n",
       "      <td>0</td>\n",
       "      <td>0</td>\n",
       "      <td>0</td>\n",
       "    </tr>\n",
       "    <tr>\n",
       "      <th>0000e836-9778-4ea9-b686-9e7bf26f90bd</th>\n",
       "      <td>2021-09-22 14:33:59</td>\n",
       "      <td>868ko1s</td>\n",
       "      <td>awbu4q4</td>\n",
       "      <td>oropida</td>\n",
       "      <td>lnqjhqm</td>\n",
       "      <td>ql1q5nq9</td>\n",
       "      <td>300x250</td>\n",
       "      <td>0</td>\n",
       "      <td>backroadramblers.com</td>\n",
       "      <td>3</td>\n",
       "      <td>United States</td>\n",
       "      <td>New York</td>\n",
       "      <td>The Bronx</td>\n",
       "      <td>4</td>\n",
       "      <td>5.00</td>\n",
       "      <td>101.00</td>\n",
       "      <td>7.00</td>\n",
       "      <td>Apple</td>\n",
       "      <td>0.01</td>\n",
       "      <td>0</td>\n",
       "      <td>1</td>\n",
       "      <td>1</td>\n",
       "      <td>1</td>\n",
       "    </tr>\n",
       "  </tbody>\n",
       "</table>\n",
       "</div>"
      ],
      "text/plain": [
       "                                             LogEntryTime AdvertiserId  \\\n",
       "Unnamed: 0                                                               \n",
       "00006a06-14e2-47d9-b999-fbeeac67dd2b  2021-09-25 00:22:37      868ko1s   \n",
       "00007898-29c9-43f1-82e5-43c5a856d0f4  2021-09-25 02:31:35      868ko1s   \n",
       "0000d06f-5239-4123-af41-bd1c0e0e8d48  2021-09-25 20:12:52      868ko1s   \n",
       "0000d623-aaf1-4be8-81f7-eb6c96b30aee  2021-09-22 16:04:12      868ko1s   \n",
       "0000e836-9778-4ea9-b686-9e7bf26f90bd  2021-09-22 14:33:59      868ko1s   \n",
       "\n",
       "                                     CampaignId AdGroupId AudienceID  \\\n",
       "Unnamed: 0                                                             \n",
       "00006a06-14e2-47d9-b999-fbeeac67dd2b    t29si1w   e9qf2dm          0   \n",
       "00007898-29c9-43f1-82e5-43c5a856d0f4    fiwemi8   8m750eh          0   \n",
       "0000d06f-5239-4123-af41-bd1c0e0e8d48    awbu4q4   oropida    lnqjhqm   \n",
       "0000d623-aaf1-4be8-81f7-eb6c96b30aee    t29si1w   e9qf2dm          0   \n",
       "0000e836-9778-4ea9-b686-9e7bf26f90bd    awbu4q4   oropida    lnqjhqm   \n",
       "\n",
       "                                     CreativeId AdFormat  Frequency  \\\n",
       "Unnamed: 0                                                            \n",
       "00006a06-14e2-47d9-b999-fbeeac67dd2b   9wkrkl5j  300x250          0   \n",
       "00007898-29c9-43f1-82e5-43c5a856d0f4   zhre4utp  300x250          0   \n",
       "0000d06f-5239-4123-af41-bd1c0e0e8d48   ab6spdyi  300x250          0   \n",
       "0000d623-aaf1-4be8-81f7-eb6c96b30aee   2spj6krt  300x250          0   \n",
       "0000e836-9778-4ea9-b686-9e7bf26f90bd   ql1q5nq9  300x250          0   \n",
       "\n",
       "                                                        Site  FoldPosition  \\\n",
       "Unnamed: 0                                                                   \n",
       "00006a06-14e2-47d9-b999-fbeeac67dd2b  scrabblewordfinder.org             4   \n",
       "00007898-29c9-43f1-82e5-43c5a856d0f4         www.thecoli.com             2   \n",
       "0000d06f-5239-4123-af41-bd1c0e0e8d48           www.today.com             3   \n",
       "0000d623-aaf1-4be8-81f7-eb6c96b30aee       www.cbssports.com             4   \n",
       "0000e836-9778-4ea9-b686-9e7bf26f90bd    backroadramblers.com             3   \n",
       "\n",
       "                                            Country         Region  \\\n",
       "Unnamed: 0                                                           \n",
       "00006a06-14e2-47d9-b999-fbeeac67dd2b  United States       New York   \n",
       "00007898-29c9-43f1-82e5-43c5a856d0f4  United States  Massachusetts   \n",
       "0000d06f-5239-4123-af41-bd1c0e0e8d48  United States       New York   \n",
       "0000d623-aaf1-4be8-81f7-eb6c96b30aee  United States       New York   \n",
       "0000e836-9778-4ea9-b686-9e7bf26f90bd  United States       New York   \n",
       "\n",
       "                                               City  DeviceType  OSFamily  \\\n",
       "Unnamed: 0                                                                  \n",
       "00006a06-14e2-47d9-b999-fbeeac67dd2b  Staten Island           4      5.00   \n",
       "00007898-29c9-43f1-82e5-43c5a856d0f4         Milton           4      5.00   \n",
       "0000d06f-5239-4123-af41-bd1c0e0e8d48       Brooklyn           4      6.00   \n",
       "0000d623-aaf1-4be8-81f7-eb6c96b30aee         Queens           4      5.00   \n",
       "0000e836-9778-4ea9-b686-9e7bf26f90bd      The Bronx           4      5.00   \n",
       "\n",
       "                                         OS  Browser DeviceMake  \\\n",
       "Unnamed: 0                                                        \n",
       "00006a06-14e2-47d9-b999-fbeeac67dd2b 173.00     7.00      Apple   \n",
       "00007898-29c9-43f1-82e5-43c5a856d0f4 173.00     7.00      Apple   \n",
       "0000d06f-5239-4123-af41-bd1c0e0e8d48 156.00     6.00    Samsung   \n",
       "0000d623-aaf1-4be8-81f7-eb6c96b30aee 101.00     7.00      Apple   \n",
       "0000e836-9778-4ea9-b686-9e7bf26f90bd 101.00     7.00      Apple   \n",
       "\n",
       "                                      AdvertiserCurrency  click  engagement  \\\n",
       "Unnamed: 0                                                                    \n",
       "00006a06-14e2-47d9-b999-fbeeac67dd2b                0.01      0           0   \n",
       "00007898-29c9-43f1-82e5-43c5a856d0f4                0.00      0           0   \n",
       "0000d06f-5239-4123-af41-bd1c0e0e8d48                0.01      0           0   \n",
       "0000d623-aaf1-4be8-81f7-eb6c96b30aee                0.01      0           0   \n",
       "0000e836-9778-4ea9-b686-9e7bf26f90bd                0.01      0           1   \n",
       "\n",
       "                                      video-end  video-start  \n",
       "Unnamed: 0                                                    \n",
       "00006a06-14e2-47d9-b999-fbeeac67dd2b          0            0  \n",
       "00007898-29c9-43f1-82e5-43c5a856d0f4          0            0  \n",
       "0000d06f-5239-4123-af41-bd1c0e0e8d48          0            0  \n",
       "0000d623-aaf1-4be8-81f7-eb6c96b30aee          0            0  \n",
       "0000e836-9778-4ea9-b686-9e7bf26f90bd          1            1  "
      ]
     },
     "execution_count": 2,
     "metadata": {},
     "output_type": "execute_result"
    }
   ],
   "source": [
    "file_path = '../data/impression_log.csv'\n",
    "df = pd.read_csv(file_path)\n",
    "df = df.set_index(df.columns[0])\n",
    "df.head()"
   ]
  },
  {
   "cell_type": "code",
   "execution_count": 3,
   "id": "b3b485c9",
   "metadata": {},
   "outputs": [
    {
     "data": {
      "text/html": [
       "<div>\n",
       "<style scoped>\n",
       "    .dataframe tbody tr th:only-of-type {\n",
       "        vertical-align: middle;\n",
       "    }\n",
       "\n",
       "    .dataframe tbody tr th {\n",
       "        vertical-align: top;\n",
       "    }\n",
       "\n",
       "    .dataframe thead th {\n",
       "        text-align: right;\n",
       "    }\n",
       "</style>\n",
       "<table border=\"1\" class=\"dataframe\">\n",
       "  <thead>\n",
       "    <tr style=\"text-align: right;\">\n",
       "      <th></th>\n",
       "      <th>AdFormat</th>\n",
       "      <th>FoldPosition</th>\n",
       "      <th>OS</th>\n",
       "      <th>DeviceType</th>\n",
       "      <th>engagement</th>\n",
       "    </tr>\n",
       "    <tr>\n",
       "      <th>Unnamed: 0</th>\n",
       "      <th></th>\n",
       "      <th></th>\n",
       "      <th></th>\n",
       "      <th></th>\n",
       "      <th></th>\n",
       "    </tr>\n",
       "  </thead>\n",
       "  <tbody>\n",
       "    <tr>\n",
       "      <th>3213e128-a614-406a-8718-5390d23cca76</th>\n",
       "      <td>320x480</td>\n",
       "      <td>2</td>\n",
       "      <td>145.00</td>\n",
       "      <td>4</td>\n",
       "      <td>1</td>\n",
       "    </tr>\n",
       "    <tr>\n",
       "      <th>561ebe56-340d-4d25-8bee-72025b0cabcc</th>\n",
       "      <td>300x250</td>\n",
       "      <td>4</td>\n",
       "      <td>156.00</td>\n",
       "      <td>4</td>\n",
       "      <td>1</td>\n",
       "    </tr>\n",
       "    <tr>\n",
       "      <th>2935f13a-027d-4311-bece-49e5c700b48f</th>\n",
       "      <td>300x250</td>\n",
       "      <td>4</td>\n",
       "      <td>174.00</td>\n",
       "      <td>4</td>\n",
       "      <td>1</td>\n",
       "    </tr>\n",
       "    <tr>\n",
       "      <th>4072fdf2-76b3-4b46-95ee-86773002b6e7</th>\n",
       "      <td>300x250</td>\n",
       "      <td>4</td>\n",
       "      <td>174.00</td>\n",
       "      <td>4</td>\n",
       "      <td>1</td>\n",
       "    </tr>\n",
       "    <tr>\n",
       "      <th>561ab7ff-937f-4811-9426-af5ec585f27c</th>\n",
       "      <td>320x480</td>\n",
       "      <td>3</td>\n",
       "      <td>174.00</td>\n",
       "      <td>4</td>\n",
       "      <td>1</td>\n",
       "    </tr>\n",
       "  </tbody>\n",
       "</table>\n",
       "</div>"
      ],
      "text/plain": [
       "                                     AdFormat  FoldPosition     OS  \\\n",
       "Unnamed: 0                                                           \n",
       "3213e128-a614-406a-8718-5390d23cca76  320x480             2 145.00   \n",
       "561ebe56-340d-4d25-8bee-72025b0cabcc  300x250             4 156.00   \n",
       "2935f13a-027d-4311-bece-49e5c700b48f  300x250             4 174.00   \n",
       "4072fdf2-76b3-4b46-95ee-86773002b6e7  300x250             4 174.00   \n",
       "561ab7ff-937f-4811-9426-af5ec585f27c  320x480             3 174.00   \n",
       "\n",
       "                                      DeviceType  engagement  \n",
       "Unnamed: 0                                                    \n",
       "3213e128-a614-406a-8718-5390d23cca76           4           1  \n",
       "561ebe56-340d-4d25-8bee-72025b0cabcc           4           1  \n",
       "2935f13a-027d-4311-bece-49e5c700b48f           4           1  \n",
       "4072fdf2-76b3-4b46-95ee-86773002b6e7           4           1  \n",
       "561ab7ff-937f-4811-9426-af5ec585f27c           4           1  "
      ]
     },
     "execution_count": 3,
     "metadata": {},
     "output_type": "execute_result"
    }
   ],
   "source": [
    "focus_columns = ['AdFormat', 'FoldPosition', 'OS', 'DeviceType', 'engagement']\n",
    "catagorical_columns = ['AdFormat', 'FoldPosition', 'DeviceType']\n",
    "\n",
    "focus_df = df[focus_columns]\n",
    "focus_df.sort_values(by='engagement', ascending=False).head()"
   ]
  },
  {
   "cell_type": "code",
   "execution_count": 4,
   "id": "9e5d3ad7",
   "metadata": {},
   "outputs": [
    {
     "data": {
      "text/plain": [
       "300x250    69962\n",
       "320x480    30038\n",
       "Name: AdFormat, dtype: int64"
      ]
     },
     "execution_count": 4,
     "metadata": {},
     "output_type": "execute_result"
    }
   ],
   "source": [
    "# label encoding, the scalling\n",
    "focus_df['AdFormat'].value_counts()"
   ]
  },
  {
   "cell_type": "code",
   "execution_count": 5,
   "id": "ead99553",
   "metadata": {},
   "outputs": [
    {
     "data": {
      "text/plain": [
       "4    52499\n",
       "3    29769\n",
       "2    17732\n",
       "Name: FoldPosition, dtype: int64"
      ]
     },
     "execution_count": 5,
     "metadata": {},
     "output_type": "execute_result"
    }
   ],
   "source": [
    "focus_df['FoldPosition'].value_counts()"
   ]
  },
  {
   "cell_type": "code",
   "execution_count": 6,
   "id": "60e42aec",
   "metadata": {},
   "outputs": [
    {
     "data": {
      "text/plain": [
       "4    93885\n",
       "3     6064\n",
       "1       51\n",
       "Name: DeviceType, dtype: int64"
      ]
     },
     "execution_count": 6,
     "metadata": {},
     "output_type": "execute_result"
    }
   ],
   "source": [
    "focus_df['DeviceType'].value_counts()"
   ]
  },
  {
   "cell_type": "code",
   "execution_count": 7,
   "id": "42426a9b",
   "metadata": {},
   "outputs": [
    {
     "data": {
      "text/plain": [
       "174.00    32525\n",
       "162.00    21226\n",
       "101.00    14050\n",
       "156.00     8905\n",
       "155.00     5152\n",
       "175.00     4132\n",
       "173.00     3865\n",
       "171.00     2206\n",
       "154.00     1328\n",
       "145.00      959\n",
       "139.00      551\n",
       "166.00      541\n",
       "141.00      408\n",
       "167.00      408\n",
       "169.00      347\n",
       "161.00      339\n",
       "170.00      333\n",
       "140.00      320\n",
       "136.00      320\n",
       "172.00      286\n",
       "168.00      236\n",
       "0.00        206\n",
       "165.00      193\n",
       "164.00      191\n",
       "144.00      143\n",
       "157.00      118\n",
       "163.00      111\n",
       "111.00       92\n",
       "159.00       72\n",
       "153.00       66\n",
       "160.00       56\n",
       "151.00       53\n",
       "112.00       53\n",
       "107.00       34\n",
       "152.00       33\n",
       "149.00       32\n",
       "146.00       29\n",
       "148.00       23\n",
       "150.00       18\n",
       "158.00       12\n",
       "147.00        5\n",
       "109.00        4\n",
       "110.00        3\n",
       "143.00        2\n",
       "108.00        2\n",
       "137.00        2\n",
       "114.00        1\n",
       "138.00        1\n",
       "113.00        1\n",
       "Name: OS, dtype: int64"
      ]
     },
     "execution_count": 7,
     "metadata": {},
     "output_type": "execute_result"
    }
   ],
   "source": [
    "# OS Diffrent values\n",
    "focus_df['OS'].value_counts()"
   ]
  },
  {
   "cell_type": "code",
   "execution_count": 8,
   "id": "5a415894",
   "metadata": {},
   "outputs": [
    {
     "data": {
      "text/plain": [
       "AdFormat        0\n",
       "FoldPosition    0\n",
       "OS              7\n",
       "DeviceType      0\n",
       "engagement      0\n",
       "dtype: int64"
      ]
     },
     "execution_count": 8,
     "metadata": {},
     "output_type": "execute_result"
    }
   ],
   "source": [
    "focus_df.isnull().sum()"
   ]
  },
  {
   "cell_type": "code",
   "execution_count": 9,
   "id": "1d48bb79",
   "metadata": {},
   "outputs": [
    {
     "name": "stderr",
     "output_type": "stream",
     "text": [
      "/opt/anaconda3/lib/python3.8/site-packages/pandas/util/_decorators.py:311: SettingWithCopyWarning: \n",
      "A value is trying to be set on a copy of a slice from a DataFrame\n",
      "\n",
      "See the caveats in the documentation: https://pandas.pydata.org/pandas-docs/stable/user_guide/indexing.html#returning-a-view-versus-a-copy\n",
      "  return func(*args, **kwargs)\n"
     ]
    },
    {
     "data": {
      "text/plain": [
       "AdFormat        0\n",
       "FoldPosition    0\n",
       "OS              0\n",
       "DeviceType      0\n",
       "engagement      0\n",
       "dtype: int64"
      ]
     },
     "execution_count": 9,
     "metadata": {},
     "output_type": "execute_result"
    }
   ],
   "source": [
    "# Remove Null Values\n",
    "focus_df.dropna(inplace=True)\n",
    "focus_df.isnull().sum()"
   ]
  },
  {
   "cell_type": "code",
   "execution_count": 10,
   "id": "8617f52b",
   "metadata": {},
   "outputs": [],
   "source": [
    "def oneHotEncoder(df, catagorical_columns):\n",
    "    new_df = df.copy()\n",
    "    new_df = pd.get_dummies(new_df, columns=catagorical_columns)\n",
    "    return new_df\n",
    "\n",
    "def labelEncoder(df,catagorical_columns):\n",
    "    new_df = df.copy()\n",
    "    for column in catagorical_columns:\n",
    "            new_df[column] = LabelEncoder().fit_transform(new_df[column])\n",
    "    return new_df\n",
    "            "
   ]
  },
  {
   "cell_type": "code",
   "execution_count": 11,
   "id": "00e4356f",
   "metadata": {},
   "outputs": [
    {
     "name": "stderr",
     "output_type": "stream",
     "text": [
      "<ipython-input-11-93b8253aca35>:3: SettingWithCopyWarning: \n",
      "A value is trying to be set on a copy of a slice from a DataFrame.\n",
      "Try using .loc[row_indexer,col_indexer] = value instead\n",
      "\n",
      "See the caveats in the documentation: https://pandas.pydata.org/pandas-docs/stable/user_guide/indexing.html#returning-a-view-versus-a-copy\n",
      "  focus_df[column] = focus_df[column].astype('category')\n"
     ]
    }
   ],
   "source": [
    "## CONVERT DATA TYPES OF CATAGORICAL COLUMNS\n",
    "for column in catagorical_columns:\n",
    "    focus_df[column] = focus_df[column].astype('category')\n",
    "\n",
    "one_hot_encod_df = oneHotEncoder(focus_df, catagorical_columns)\n",
    "labelEncod_df = labelEncoder(focus_df, catagorical_columns)"
   ]
  },
  {
   "cell_type": "code",
   "execution_count": 12,
   "id": "30ffa1d4",
   "metadata": {},
   "outputs": [
    {
     "data": {
      "text/html": [
       "<div>\n",
       "<style scoped>\n",
       "    .dataframe tbody tr th:only-of-type {\n",
       "        vertical-align: middle;\n",
       "    }\n",
       "\n",
       "    .dataframe tbody tr th {\n",
       "        vertical-align: top;\n",
       "    }\n",
       "\n",
       "    .dataframe thead th {\n",
       "        text-align: right;\n",
       "    }\n",
       "</style>\n",
       "<table border=\"1\" class=\"dataframe\">\n",
       "  <thead>\n",
       "    <tr style=\"text-align: right;\">\n",
       "      <th></th>\n",
       "      <th>OS</th>\n",
       "      <th>engagement</th>\n",
       "      <th>AdFormat_300x250</th>\n",
       "      <th>AdFormat_320x480</th>\n",
       "      <th>FoldPosition_2</th>\n",
       "      <th>FoldPosition_3</th>\n",
       "      <th>FoldPosition_4</th>\n",
       "      <th>DeviceType_1</th>\n",
       "      <th>DeviceType_3</th>\n",
       "      <th>DeviceType_4</th>\n",
       "    </tr>\n",
       "    <tr>\n",
       "      <th>Unnamed: 0</th>\n",
       "      <th></th>\n",
       "      <th></th>\n",
       "      <th></th>\n",
       "      <th></th>\n",
       "      <th></th>\n",
       "      <th></th>\n",
       "      <th></th>\n",
       "      <th></th>\n",
       "      <th></th>\n",
       "      <th></th>\n",
       "    </tr>\n",
       "  </thead>\n",
       "  <tbody>\n",
       "    <tr>\n",
       "      <th>00006a06-14e2-47d9-b999-fbeeac67dd2b</th>\n",
       "      <td>173.00</td>\n",
       "      <td>0</td>\n",
       "      <td>1</td>\n",
       "      <td>0</td>\n",
       "      <td>0</td>\n",
       "      <td>0</td>\n",
       "      <td>1</td>\n",
       "      <td>0</td>\n",
       "      <td>0</td>\n",
       "      <td>1</td>\n",
       "    </tr>\n",
       "    <tr>\n",
       "      <th>00007898-29c9-43f1-82e5-43c5a856d0f4</th>\n",
       "      <td>173.00</td>\n",
       "      <td>0</td>\n",
       "      <td>1</td>\n",
       "      <td>0</td>\n",
       "      <td>1</td>\n",
       "      <td>0</td>\n",
       "      <td>0</td>\n",
       "      <td>0</td>\n",
       "      <td>0</td>\n",
       "      <td>1</td>\n",
       "    </tr>\n",
       "    <tr>\n",
       "      <th>0000d06f-5239-4123-af41-bd1c0e0e8d48</th>\n",
       "      <td>156.00</td>\n",
       "      <td>0</td>\n",
       "      <td>1</td>\n",
       "      <td>0</td>\n",
       "      <td>0</td>\n",
       "      <td>1</td>\n",
       "      <td>0</td>\n",
       "      <td>0</td>\n",
       "      <td>0</td>\n",
       "      <td>1</td>\n",
       "    </tr>\n",
       "    <tr>\n",
       "      <th>0000d623-aaf1-4be8-81f7-eb6c96b30aee</th>\n",
       "      <td>101.00</td>\n",
       "      <td>0</td>\n",
       "      <td>1</td>\n",
       "      <td>0</td>\n",
       "      <td>0</td>\n",
       "      <td>0</td>\n",
       "      <td>1</td>\n",
       "      <td>0</td>\n",
       "      <td>0</td>\n",
       "      <td>1</td>\n",
       "    </tr>\n",
       "    <tr>\n",
       "      <th>0000e836-9778-4ea9-b686-9e7bf26f90bd</th>\n",
       "      <td>101.00</td>\n",
       "      <td>1</td>\n",
       "      <td>1</td>\n",
       "      <td>0</td>\n",
       "      <td>0</td>\n",
       "      <td>1</td>\n",
       "      <td>0</td>\n",
       "      <td>0</td>\n",
       "      <td>0</td>\n",
       "      <td>1</td>\n",
       "    </tr>\n",
       "  </tbody>\n",
       "</table>\n",
       "</div>"
      ],
      "text/plain": [
       "                                         OS  engagement  AdFormat_300x250  \\\n",
       "Unnamed: 0                                                                  \n",
       "00006a06-14e2-47d9-b999-fbeeac67dd2b 173.00           0                 1   \n",
       "00007898-29c9-43f1-82e5-43c5a856d0f4 173.00           0                 1   \n",
       "0000d06f-5239-4123-af41-bd1c0e0e8d48 156.00           0                 1   \n",
       "0000d623-aaf1-4be8-81f7-eb6c96b30aee 101.00           0                 1   \n",
       "0000e836-9778-4ea9-b686-9e7bf26f90bd 101.00           1                 1   \n",
       "\n",
       "                                      AdFormat_320x480  FoldPosition_2  \\\n",
       "Unnamed: 0                                                               \n",
       "00006a06-14e2-47d9-b999-fbeeac67dd2b                 0               0   \n",
       "00007898-29c9-43f1-82e5-43c5a856d0f4                 0               1   \n",
       "0000d06f-5239-4123-af41-bd1c0e0e8d48                 0               0   \n",
       "0000d623-aaf1-4be8-81f7-eb6c96b30aee                 0               0   \n",
       "0000e836-9778-4ea9-b686-9e7bf26f90bd                 0               0   \n",
       "\n",
       "                                      FoldPosition_3  FoldPosition_4  \\\n",
       "Unnamed: 0                                                             \n",
       "00006a06-14e2-47d9-b999-fbeeac67dd2b               0               1   \n",
       "00007898-29c9-43f1-82e5-43c5a856d0f4               0               0   \n",
       "0000d06f-5239-4123-af41-bd1c0e0e8d48               1               0   \n",
       "0000d623-aaf1-4be8-81f7-eb6c96b30aee               0               1   \n",
       "0000e836-9778-4ea9-b686-9e7bf26f90bd               1               0   \n",
       "\n",
       "                                      DeviceType_1  DeviceType_3  DeviceType_4  \n",
       "Unnamed: 0                                                                      \n",
       "00006a06-14e2-47d9-b999-fbeeac67dd2b             0             0             1  \n",
       "00007898-29c9-43f1-82e5-43c5a856d0f4             0             0             1  \n",
       "0000d06f-5239-4123-af41-bd1c0e0e8d48             0             0             1  \n",
       "0000d623-aaf1-4be8-81f7-eb6c96b30aee             0             0             1  \n",
       "0000e836-9778-4ea9-b686-9e7bf26f90bd             0             0             1  "
      ]
     },
     "execution_count": 12,
     "metadata": {},
     "output_type": "execute_result"
    }
   ],
   "source": [
    "one_hot_encod_df.head()"
   ]
  },
  {
   "cell_type": "code",
   "execution_count": 13,
   "id": "e86a7d40",
   "metadata": {},
   "outputs": [
    {
     "data": {
      "text/html": [
       "<div>\n",
       "<style scoped>\n",
       "    .dataframe tbody tr th:only-of-type {\n",
       "        vertical-align: middle;\n",
       "    }\n",
       "\n",
       "    .dataframe tbody tr th {\n",
       "        vertical-align: top;\n",
       "    }\n",
       "\n",
       "    .dataframe thead th {\n",
       "        text-align: right;\n",
       "    }\n",
       "</style>\n",
       "<table border=\"1\" class=\"dataframe\">\n",
       "  <thead>\n",
       "    <tr style=\"text-align: right;\">\n",
       "      <th></th>\n",
       "      <th>AdFormat</th>\n",
       "      <th>FoldPosition</th>\n",
       "      <th>OS</th>\n",
       "      <th>DeviceType</th>\n",
       "      <th>engagement</th>\n",
       "    </tr>\n",
       "    <tr>\n",
       "      <th>Unnamed: 0</th>\n",
       "      <th></th>\n",
       "      <th></th>\n",
       "      <th></th>\n",
       "      <th></th>\n",
       "      <th></th>\n",
       "    </tr>\n",
       "  </thead>\n",
       "  <tbody>\n",
       "    <tr>\n",
       "      <th>00006a06-14e2-47d9-b999-fbeeac67dd2b</th>\n",
       "      <td>0</td>\n",
       "      <td>2</td>\n",
       "      <td>173.00</td>\n",
       "      <td>2</td>\n",
       "      <td>0</td>\n",
       "    </tr>\n",
       "    <tr>\n",
       "      <th>00007898-29c9-43f1-82e5-43c5a856d0f4</th>\n",
       "      <td>0</td>\n",
       "      <td>0</td>\n",
       "      <td>173.00</td>\n",
       "      <td>2</td>\n",
       "      <td>0</td>\n",
       "    </tr>\n",
       "    <tr>\n",
       "      <th>0000d06f-5239-4123-af41-bd1c0e0e8d48</th>\n",
       "      <td>0</td>\n",
       "      <td>1</td>\n",
       "      <td>156.00</td>\n",
       "      <td>2</td>\n",
       "      <td>0</td>\n",
       "    </tr>\n",
       "    <tr>\n",
       "      <th>0000d623-aaf1-4be8-81f7-eb6c96b30aee</th>\n",
       "      <td>0</td>\n",
       "      <td>2</td>\n",
       "      <td>101.00</td>\n",
       "      <td>2</td>\n",
       "      <td>0</td>\n",
       "    </tr>\n",
       "    <tr>\n",
       "      <th>0000e836-9778-4ea9-b686-9e7bf26f90bd</th>\n",
       "      <td>0</td>\n",
       "      <td>1</td>\n",
       "      <td>101.00</td>\n",
       "      <td>2</td>\n",
       "      <td>1</td>\n",
       "    </tr>\n",
       "  </tbody>\n",
       "</table>\n",
       "</div>"
      ],
      "text/plain": [
       "                                      AdFormat  FoldPosition     OS  \\\n",
       "Unnamed: 0                                                            \n",
       "00006a06-14e2-47d9-b999-fbeeac67dd2b         0             2 173.00   \n",
       "00007898-29c9-43f1-82e5-43c5a856d0f4         0             0 173.00   \n",
       "0000d06f-5239-4123-af41-bd1c0e0e8d48         0             1 156.00   \n",
       "0000d623-aaf1-4be8-81f7-eb6c96b30aee         0             2 101.00   \n",
       "0000e836-9778-4ea9-b686-9e7bf26f90bd         0             1 101.00   \n",
       "\n",
       "                                      DeviceType  engagement  \n",
       "Unnamed: 0                                                    \n",
       "00006a06-14e2-47d9-b999-fbeeac67dd2b           2           0  \n",
       "00007898-29c9-43f1-82e5-43c5a856d0f4           2           0  \n",
       "0000d06f-5239-4123-af41-bd1c0e0e8d48           2           0  \n",
       "0000d623-aaf1-4be8-81f7-eb6c96b30aee           2           0  \n",
       "0000e836-9778-4ea9-b686-9e7bf26f90bd           2           1  "
      ]
     },
     "execution_count": 13,
     "metadata": {},
     "output_type": "execute_result"
    }
   ],
   "source": [
    "labelEncod_df.head()"
   ]
  },
  {
   "cell_type": "code",
   "execution_count": 14,
   "id": "61fa7863",
   "metadata": {},
   "outputs": [],
   "source": [
    "## Feature scalling\n",
    "scaler = MinMaxScaler()\n",
    "\n",
    "oneHot_train_columns = ['OS', 'AdFormat_300x250', 'AdFormat_320x480',\n",
    "       'FoldPosition_2', 'FoldPosition_3', 'FoldPosition_4', 'DeviceType_1',\n",
    "       'DeviceType_3', 'DeviceType_4']\n",
    "\n",
    "label_train_columns = ['AdFormat', 'FoldPosition', 'OS', 'DeviceType']\n",
    "target_column = focus_df['engagement']\n",
    "\n",
    "\n",
    "oneHot_train = one_hot_encod_df[oneHot_train_columns]\n",
    "label_train = labelEncod_df[label_train_columns]\n",
    "\n",
    "oneHot_scaled = scaler.fit_transform(oneHot_train.to_numpy())\n",
    "oneHot_scaled = pd.DataFrame(oneHot_scaled, columns=oneHot_train_columns)\n",
    "oneHot_scaled.head()\n",
    "\n",
    "label_scaled = scaler.fit_transform(label_train.to_numpy())\n",
    "label_scaled = pd.DataFrame(label_scaled, columns=label_train_columns)\n",
    "\n",
    "\n",
    "# label_scaled.head()"
   ]
  },
  {
   "cell_type": "code",
   "execution_count": 15,
   "id": "54068d11",
   "metadata": {},
   "outputs": [
    {
     "name": "stdout",
     "output_type": "stream",
     "text": [
      "(99993, 9) (99993,)\n"
     ]
    }
   ],
   "source": [
    "print(oneHot_scaled.shape, target_column.shape)"
   ]
  },
  {
   "cell_type": "markdown",
   "id": "f001b62c",
   "metadata": {},
   "source": [
    "### Train Model with One hot encoding"
   ]
  },
  {
   "cell_type": "code",
   "execution_count": 16,
   "id": "d74a4073",
   "metadata": {},
   "outputs": [],
   "source": [
    "def train_model(train, test, model_type='Linear'):\n",
    "    model = LinearRegression()\n",
    "    \n",
    "    if (model_type == 'Logistic'):\n",
    "        model = LogisticRegression()\n",
    "        \n",
    "    model.fit(train, test)\n",
    "    return model\n",
    "\n",
    "def test_model(x_test, y_test, model):\n",
    "    score = model.score(x_test, y_test)\n",
    "    print(\"Model Score => \", score)"
   ]
  },
  {
   "cell_type": "code",
   "execution_count": 17,
   "id": "1a3b377e",
   "metadata": {},
   "outputs": [
    {
     "name": "stdout",
     "output_type": "stream",
     "text": [
      "*** Model Training Using One Hot Encoding ***\n",
      "\n",
      "Linear Regretion\n",
      "Model Score =>  0.018663329724559086\n",
      "\n",
      "Logistic Regretion\n",
      "Model Score =>  0.8720581372091473\n",
      "\n"
     ]
    }
   ],
   "source": [
    "x_train, x_test, y_train, y_test = train_test_split(oneHot_scaled, target_column, test_size=0.3)\n",
    "\n",
    "print(\"*** Model Training Using One Hot Encoding ***\")\n",
    "print()\n",
    "\n",
    "# Linera Regretion\n",
    "oneHot_lr_model = train_model(x_train, y_train)\n",
    "print(\"Linear Regretion\")\n",
    "test_model(x_test, y_test, oneHot_lr_model)\n",
    "print()\n",
    "\n",
    "\n",
    "oneHot_logistic_model = train_model(x_train, y_train, 'Logistic')\n",
    "print(\"Logistic Regretion\")\n",
    "test_model(x_test, y_test, oneHot_logistic_model)\n",
    "print()\n"
   ]
  },
  {
   "cell_type": "code",
   "execution_count": 18,
   "id": "60193439",
   "metadata": {},
   "outputs": [
    {
     "name": "stdout",
     "output_type": "stream",
     "text": [
      "*** Model Training Using Label Encoding ***\n",
      "\n",
      "Linear Regretion\n",
      "Model Score =>  0.019552985378220034\n",
      "\n",
      "Logistic Regretion\n",
      "Model Score =>  0.8697913194212947\n",
      "\n"
     ]
    }
   ],
   "source": [
    "x_train, x_test, y_train, y_test = train_test_split(label_scaled, target_column, test_size=0.3)\n",
    "\n",
    "print(\"*** Model Training Using Label Encoding ***\")\n",
    "print()\n",
    "\n",
    "# Linera Regretion\n",
    "label_lr_model = train_model(x_train, y_train)\n",
    "print(\"Linear Regretion\")\n",
    "test_model(x_test, y_test, label_lr_model)\n",
    "print()\n",
    "\n",
    "\n",
    "label_logistic_model = train_model(x_train, y_train, 'Logistic')\n",
    "print(\"Logistic Regretion\")\n",
    "test_model(x_test, y_test, label_logistic_model)\n",
    "print()\n"
   ]
  },
  {
   "cell_type": "markdown",
   "id": "64b6d68d",
   "metadata": {},
   "source": [
    "## Get Feature Importance\n",
    "This will help us predict which feature influence the result"
   ]
  },
  {
   "cell_type": "code",
   "execution_count": 19,
   "id": "cba0d4ce",
   "metadata": {},
   "outputs": [],
   "source": [
    "\n",
    "def logistic_featuer_importance(model, columns):\n",
    "    importance = model.coef_[0]\n",
    "    df = pd.DataFrame([list(importance)], columns=columns)\n",
    "    df = df.transpose()\n",
    "    df = df.reset_index()\n",
    "    df.rename(columns={'index':'columns', 0:'score'}, inplace=True)\n",
    "    return df\n",
    "\n",
    "def linear_feature_importance(model, columns):\n",
    "    importance = model.coef_\n",
    "    df = pd.DataFrame([list(importance)], columns=columns)\n",
    "    df = df.transpose()\n",
    "    df = df.reset_index()\n",
    "    df.rename(columns={'index':'columns', 0:'score'}, inplace=True)\n",
    "    return df\n"
   ]
  },
  {
   "cell_type": "code",
   "execution_count": 20,
   "id": "7012bd65",
   "metadata": {},
   "outputs": [],
   "source": [
    "# Linear -> oneHot_linear, label_linear\n",
    "oneHot_linear_importance = linear_feature_importance(oneHot_lr_model, oneHot_train_columns)\n",
    "label_linear_importance = linear_feature_importance(label_lr_model,label_train_columns)\n",
    "\n",
    "# Logistics ->  oneHot_logistics, lable_logstics\n",
    "oneHot_logistics_importance = logistic_featuer_importance(oneHot_logistic_model,oneHot_train_columns)\n",
    "label_logistics_importance = logistic_featuer_importance(label_logistic_model,label_train_columns)"
   ]
  },
  {
   "cell_type": "markdown",
   "id": "52d4e947",
   "metadata": {},
   "source": [
    "### OneHot Feature Importance Graph"
   ]
  },
  {
   "cell_type": "code",
   "execution_count": 21,
   "id": "8875e7c9",
   "metadata": {},
   "outputs": [
    {
     "data": {
      "image/png": "[encoded data removed]",
      "text/plain": [
       "<Figure size 864x432 with 1 Axes>"
      ]
     },
     "metadata": {
      "needs_background": "light"
     },
     "output_type": "display_data"
    }
   ],
   "source": [
    "# Feature importance with Linear regretion, BY One Hot encoding\n",
    "bar_plot(x='columns', y='score', df=oneHot_linear_importance)"
   ]
  },
  {
   "cell_type": "code",
   "execution_count": 22,
   "id": "13199244",
   "metadata": {},
   "outputs": [
    {
     "data": {
      "image/png": "[encoded data removed]",
      "text/plain": [
       "<Figure size 864x432 with 1 Axes>"
      ]
     },
     "metadata": {
      "needs_background": "light"
     },
     "output_type": "display_data"
    }
   ],
   "source": [
    "# Feature importance with Logistic regretion, by one hot encoding\n",
    "bar_plot(x='columns', y='score', df=oneHot_logistics_importance)"
   ]
  },
  {
   "cell_type": "markdown",
   "id": "a74b21fe",
   "metadata": {},
   "source": [
    "## Label encoder Feature Importance Graph"
   ]
  },
  {
   "cell_type": "code",
   "execution_count": 23,
   "id": "22b1e632",
   "metadata": {},
   "outputs": [
    {
     "data": {
      "image/png": "[encoded data removed]",
      "text/plain": [
       "<Figure size 864x432 with 1 Axes>"
      ]
     },
     "metadata": {
      "needs_background": "light"
     },
     "output_type": "display_data"
    }
   ],
   "source": [
    "# Feature importance with Logistic regretion, by one hot encoding\n",
    "bar_plot(x='columns', y='score', df=label_linear_importance)"
   ]
  },
  {
   "cell_type": "code",
   "execution_count": 24,
   "id": "21366093",
   "metadata": {},
   "outputs": [
    {
     "data": {
      "image/png": "[encoded data removed]",
      "text/plain": [
       "<Figure size 864x432 with 1 Axes>"
      ]
     },
     "metadata": {
      "needs_background": "light"
     },
     "output_type": "display_data"
    }
   ],
   "source": [
    "# Feature importance with Logistic regretion, by one hot encoding\n",
    "bar_plot(x='columns', y='score', df=label_logistics_importance)"
   ]
  },
  {
   "cell_type": "markdown",
   "id": "e9168f9f",
   "metadata": {},
   "source": [
    "## CONCLUSION FROM THE ABOVE ANALYSIS"
   ]
  },
  {
   "cell_type": "markdown",
   "id": "62ce3679",
   "metadata": {},
   "source": [
    "**Device type** has the highest decisiveness over all the other catagories on engagement"
   ]
  },
  {
   "cell_type": "code",
   "execution_count": 25,
   "id": "a2c09832",
   "metadata": {},
   "outputs": [],
   "source": [
    "## checking mutual information score"
   ]
  },
  {
   "cell_type": "code",
   "execution_count": 96,
   "id": "2bddd613",
   "metadata": {},
   "outputs": [
    {
     "name": "stdout",
     "output_type": "stream",
     "text": [
      "AdFormat: 0.0067203492354639405\n",
      "FoldPosition: 0.00043855439227317994\n",
      "OS: 0.001483773343128503\n",
      "DeviceType: 0.005620998963784436\n",
      "OS: 0.001483773343128503\n",
      "AdFormat_300x250: 0.0067203492354639405\n",
      "AdFormat_320x480: 0.0067203492354639405\n",
      "FoldPosition_2: 0.00029119216879054666\n",
      "FoldPosition_3: 0.00027919672445306243\n",
      "FoldPosition_4: 6.573006257920566e-06\n",
      "DeviceType_1: 6.779318529017905e-05\n",
      "DeviceType_3: 0.005549058936248987\n",
      "DeviceType_4: 0.00561337051177826\n"
     ]
    },
    {
     "data": {
      "image/png": "[encoded data removed]",
      "text/plain": [
       "<Figure size 864x432 with 1 Axes>"
      ]
     },
     "metadata": {
      "needs_background": "light"
     },
     "output_type": "display_data"
    }
   ],
   "source": [
    "# https://stackoverflow.com/questions/53470097/how-to-apply-mutual-information-on-categorical-features\n",
    "\n",
    "def get_mutual_info_score(col1, col2):\n",
    "    col1 = np.reshape(list(col1), (-1,1))\n",
    "    col2 = list(col2)\n",
    "    score = mutual_info_classif(col1,col2,discrete_features=True)\n",
    "    return score\n",
    "\n",
    "def get_df_scores(df, columns):\n",
    "    scores = []\n",
    "    for column in columns:\n",
    "        score = mutual_info(df[column], target_column)\n",
    "        scores.append(score[0])\n",
    "        # print(f'{column}: {score[0]}')\n",
    "        \n",
    "    return scores\n",
    "\n",
    "def make_mutual_info_df(scores, columns):\n",
    "    df = pd.DataFrame([list(scores)], columns=columns)\n",
    "    df = df.transpose()\n",
    "    df = df.reset_index()\n",
    "    df.rename(columns={'index':'columns', 0:'score'}, inplace=True)\n",
    "    return df\n",
    "\n",
    "\n",
    "labelEncode_scores = get_df_scores(labelEncod_df, label_train_columns)\n",
    "oneHotEncode_scores = get_df_scores(one_hot_encod_df, oneHot_train_columns)\n",
    "\n",
    "\n",
    "label_encoded_mutual_info_df = make_mutual_info_df(labelEncode_scores, label_train_columns)\n",
    "onehot_encoded_mutual_info_df = make_mutual_info_df(oneHotEncode_scores, oneHot_train_columns)\n",
    "\n",
    "bar_plot(x='columns', y='score', df=label_encoded_mutual_info_df)\n",
    "bar_plot(x='columns', y='score', df=onehot_encoded_mutual_info_df)"
   ]
  },
  {
   "cell_type": "code",
   "execution_count": null,
   "id": "4ea2121e",
   "metadata": {},
   "outputs": [],
   "source": []
  }
 ],
 "metadata": {
  "kernelspec": {
   "display_name": "Python 3",
   "language": "python",
   "name": "python3"
  },
  "language_info": {
   "codemirror_mode": {
    "name": "ipython",
    "version": 3
   },
   "file_extension": ".py",
   "mimetype": "text/x-python",
   "name": "python",
   "nbconvert_exporter": "python",
   "pygments_lexer": "ipython3",
   "version": "3.8.8"
  }
 },
 "nbformat": 4,
 "nbformat_minor": 5
}
